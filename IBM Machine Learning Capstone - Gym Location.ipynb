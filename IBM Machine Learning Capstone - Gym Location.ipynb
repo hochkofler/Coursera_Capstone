{
 "cells": [
  {
   "cell_type": "markdown",
   "metadata": {},
   "source": [
    "# 1. Introduction"
   ]
  },
  {
   "cell_type": "markdown",
   "metadata": {},
   "source": [
    "I have been acquiring skills related to data science by taking the IBM Data Science Professional Course on Coursera. The last course contains a capstone project. This project is about applying data science toolset and obtained skills to analyze a problem in reality and creating value. My project's theme concerns a topic that I have been really interested in: Gym and health industry. My analysis was performed in Python. The details are pushed to Github."
   ]
  },
  {
   "cell_type": "markdown",
   "metadata": {},
   "source": [
    "# 2. Business problem"
   ]
  },
  {
   "cell_type": "markdown",
   "metadata": {},
   "source": [
    "In recent years, there is a great boom in the healthy living industry. She is interested in opening a new unit, which will focus on offering her clients a personalized routine according to their weight, age, expectations and available time. Taking into account the financial plan in which the gym will operate, the intention is to find an optimal location in an area of Buenos Aires. The following criteria should be considered:\n",
    "- Accessibility for local citizens (transport)\n",
    "- Nearby competitors\n",
    "- Metropolitan area\n",
    "\n",
    "The assumption behind the analysis is that we can use unsupervised machine learning to create district groups that will provide us with a list of areas for potential gym locations. The purpose is that the gym is located near one of the most populated areas with less competition and easy access."
   ]
  },
  {
   "cell_type": "markdown",
   "metadata": {},
   "source": [
    "# 3. Data input"
   ]
  },
  {
   "cell_type": "markdown",
   "metadata": {},
   "source": [
    "To perform this analysis, we will need the following data:\n",
    "\n",
    "List of the districts Buenos Aires, Argentina\n",
    "Geo-coordinates of the districts in Buenos Aires\n",
    "Top venues of districts\n",
    "List of districts will be obtained from Wikipedia. (http://download.geonames.org/export/zip/AR.zip)\n",
    "\n",
    "- Geo-coordinates of districts will be obtained with the help of the geocoder tool in the notebook.\n",
    "\n",
    "- Top venues data will be obtained from Foursquare through an API."
   ]
  }
 ],
 "metadata": {
  "kernelspec": {
   "display_name": "Python 3",
   "language": "python",
   "name": "python3"
  },
  "language_info": {
   "codemirror_mode": {
    "name": "ipython",
    "version": 3
   },
   "file_extension": ".py",
   "mimetype": "text/x-python",
   "name": "python",
   "nbconvert_exporter": "python",
   "pygments_lexer": "ipython3",
   "version": "3.7.1"
  }
 },
 "nbformat": 4,
 "nbformat_minor": 2
}
